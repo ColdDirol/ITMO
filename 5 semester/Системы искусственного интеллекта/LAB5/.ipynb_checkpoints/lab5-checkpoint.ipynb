{
 "cells": [
  {
   "cell_type": "markdown",
   "id": "751081254420b56a",
   "metadata": {},
   "source": [
    "# Лабораторная 5. Деревья решений"
   ]
  },
  {
   "cell_type": "code",
   "execution_count": 1,
   "id": "9bfe7b9f76495e4a",
   "metadata": {
    "ExecuteTime": {
     "end_time": "2024-12-16T08:26:43.351922Z",
     "start_time": "2024-12-16T08:26:43.256997Z"
    }
   },
   "outputs": [],
   "source": [
    "import numpy as np\n",
    "import pandas as pd\n",
    "import matplotlib.pyplot as plt\n",
    "import random\n",
    "from math import sqrt, ceil, log2\n",
    "from graphviz import Digraph\n",
    "from IPython.display import display, Image, SVG\n",
    "from sklearn.metrics import roc_curve, roc_auc_score, precision_recall_curve, average_precision_score"
   ]
  },
  {
   "cell_type": "markdown",
   "id": "f4a075cb645448f5",
   "metadata": {},
   "source": [
    "## Загрузка данных"
   ]
  },
  {
   "cell_type": "code",
   "execution_count": 2,
   "id": "b149c654dfc0955b",
   "metadata": {
    "ExecuteTime": {
     "end_time": "2024-12-16T08:26:43.372825Z",
     "start_time": "2024-12-16T08:26:43.357180Z"
    }
   },
   "outputs": [],
   "source": [
    "data = pd.read_csv('data/agaricus-lepiota.data', header=None)\n",
    "\n",
    "# Задаем названия колонок\n",
    "data.columns = [\n",
    "    'class', 'cap-shape', 'cap-surface', 'cap-color', 'bruises', 'odor',\n",
    "    'gill-attachment', 'gill-spacing', 'gill-size', 'gill-color',\n",
    "    'stalk-shape', 'stalk-root', 'stalk-surface-above-ring',\n",
    "    'stalk-surface-below-ring', 'stalk-color-above-ring',\n",
    "    'stalk-color-below-ring', 'veil-type', 'veil-color',\n",
    "    'ring-number', 'ring-type', 'spore-print-color',\n",
    "    'population', 'habitat'\n",
    "]"
   ]
  },
  {
   "cell_type": "markdown",
   "id": "264a06a77eb8bcd8",
   "metadata": {},
   "source": [
    "## Обработка некорректных значений"
   ]
  },
  {
   "cell_type": "code",
   "execution_count": 3,
   "id": "552f3a940051813f",
   "metadata": {
    "ExecuteTime": {
     "end_time": "2024-12-16T08:26:43.423806Z",
     "start_time": "2024-12-16T08:26:43.404541Z"
    }
   },
   "outputs": [],
   "source": [
    "# Заменяем '?' на NaN и удаляем строки с пропусками\n",
    "data.replace('?', np.nan, inplace=True)\n",
    "data.dropna(inplace=True)"
   ]
  },
  {
   "cell_type": "markdown",
   "id": "5cfc64507d59c4b0",
   "metadata": {},
   "source": [
    "## Вывод обработанных данных"
   ]
  },
  {
   "cell_type": "code",
   "execution_count": 4,
   "id": "53d146fd8025a17",
   "metadata": {
    "ExecuteTime": {
     "end_time": "2024-12-16T08:26:43.470412Z",
     "start_time": "2024-12-16T08:26:43.457487Z"
    }
   },
   "outputs": [
    {
     "data": {
      "text/html": [
       "<div>\n",
       "<style scoped>\n",
       "    .dataframe tbody tr th:only-of-type {\n",
       "        vertical-align: middle;\n",
       "    }\n",
       "\n",
       "    .dataframe tbody tr th {\n",
       "        vertical-align: top;\n",
       "    }\n",
       "\n",
       "    .dataframe thead th {\n",
       "        text-align: right;\n",
       "    }\n",
       "</style>\n",
       "<table border=\"1\" class=\"dataframe\">\n",
       "  <thead>\n",
       "    <tr style=\"text-align: right;\">\n",
       "      <th></th>\n",
       "      <th>class</th>\n",
       "      <th>cap-shape</th>\n",
       "      <th>cap-surface</th>\n",
       "      <th>cap-color</th>\n",
       "      <th>bruises</th>\n",
       "      <th>odor</th>\n",
       "      <th>gill-attachment</th>\n",
       "      <th>gill-spacing</th>\n",
       "      <th>gill-size</th>\n",
       "      <th>gill-color</th>\n",
       "      <th>...</th>\n",
       "      <th>stalk-surface-below-ring</th>\n",
       "      <th>stalk-color-above-ring</th>\n",
       "      <th>stalk-color-below-ring</th>\n",
       "      <th>veil-type</th>\n",
       "      <th>veil-color</th>\n",
       "      <th>ring-number</th>\n",
       "      <th>ring-type</th>\n",
       "      <th>spore-print-color</th>\n",
       "      <th>population</th>\n",
       "      <th>habitat</th>\n",
       "    </tr>\n",
       "  </thead>\n",
       "  <tbody>\n",
       "    <tr>\n",
       "      <th>0</th>\n",
       "      <td>p</td>\n",
       "      <td>x</td>\n",
       "      <td>s</td>\n",
       "      <td>n</td>\n",
       "      <td>t</td>\n",
       "      <td>p</td>\n",
       "      <td>f</td>\n",
       "      <td>c</td>\n",
       "      <td>n</td>\n",
       "      <td>k</td>\n",
       "      <td>...</td>\n",
       "      <td>s</td>\n",
       "      <td>w</td>\n",
       "      <td>w</td>\n",
       "      <td>p</td>\n",
       "      <td>w</td>\n",
       "      <td>o</td>\n",
       "      <td>p</td>\n",
       "      <td>k</td>\n",
       "      <td>s</td>\n",
       "      <td>u</td>\n",
       "    </tr>\n",
       "    <tr>\n",
       "      <th>1</th>\n",
       "      <td>e</td>\n",
       "      <td>x</td>\n",
       "      <td>s</td>\n",
       "      <td>y</td>\n",
       "      <td>t</td>\n",
       "      <td>a</td>\n",
       "      <td>f</td>\n",
       "      <td>c</td>\n",
       "      <td>b</td>\n",
       "      <td>k</td>\n",
       "      <td>...</td>\n",
       "      <td>s</td>\n",
       "      <td>w</td>\n",
       "      <td>w</td>\n",
       "      <td>p</td>\n",
       "      <td>w</td>\n",
       "      <td>o</td>\n",
       "      <td>p</td>\n",
       "      <td>n</td>\n",
       "      <td>n</td>\n",
       "      <td>g</td>\n",
       "    </tr>\n",
       "    <tr>\n",
       "      <th>2</th>\n",
       "      <td>e</td>\n",
       "      <td>b</td>\n",
       "      <td>s</td>\n",
       "      <td>w</td>\n",
       "      <td>t</td>\n",
       "      <td>l</td>\n",
       "      <td>f</td>\n",
       "      <td>c</td>\n",
       "      <td>b</td>\n",
       "      <td>n</td>\n",
       "      <td>...</td>\n",
       "      <td>s</td>\n",
       "      <td>w</td>\n",
       "      <td>w</td>\n",
       "      <td>p</td>\n",
       "      <td>w</td>\n",
       "      <td>o</td>\n",
       "      <td>p</td>\n",
       "      <td>n</td>\n",
       "      <td>n</td>\n",
       "      <td>m</td>\n",
       "    </tr>\n",
       "    <tr>\n",
       "      <th>3</th>\n",
       "      <td>p</td>\n",
       "      <td>x</td>\n",
       "      <td>y</td>\n",
       "      <td>w</td>\n",
       "      <td>t</td>\n",
       "      <td>p</td>\n",
       "      <td>f</td>\n",
       "      <td>c</td>\n",
       "      <td>n</td>\n",
       "      <td>n</td>\n",
       "      <td>...</td>\n",
       "      <td>s</td>\n",
       "      <td>w</td>\n",
       "      <td>w</td>\n",
       "      <td>p</td>\n",
       "      <td>w</td>\n",
       "      <td>o</td>\n",
       "      <td>p</td>\n",
       "      <td>k</td>\n",
       "      <td>s</td>\n",
       "      <td>u</td>\n",
       "    </tr>\n",
       "    <tr>\n",
       "      <th>4</th>\n",
       "      <td>e</td>\n",
       "      <td>x</td>\n",
       "      <td>s</td>\n",
       "      <td>g</td>\n",
       "      <td>f</td>\n",
       "      <td>n</td>\n",
       "      <td>f</td>\n",
       "      <td>w</td>\n",
       "      <td>b</td>\n",
       "      <td>k</td>\n",
       "      <td>...</td>\n",
       "      <td>s</td>\n",
       "      <td>w</td>\n",
       "      <td>w</td>\n",
       "      <td>p</td>\n",
       "      <td>w</td>\n",
       "      <td>o</td>\n",
       "      <td>e</td>\n",
       "      <td>n</td>\n",
       "      <td>a</td>\n",
       "      <td>g</td>\n",
       "    </tr>\n",
       "    <tr>\n",
       "      <th>...</th>\n",
       "      <td>...</td>\n",
       "      <td>...</td>\n",
       "      <td>...</td>\n",
       "      <td>...</td>\n",
       "      <td>...</td>\n",
       "      <td>...</td>\n",
       "      <td>...</td>\n",
       "      <td>...</td>\n",
       "      <td>...</td>\n",
       "      <td>...</td>\n",
       "      <td>...</td>\n",
       "      <td>...</td>\n",
       "      <td>...</td>\n",
       "      <td>...</td>\n",
       "      <td>...</td>\n",
       "      <td>...</td>\n",
       "      <td>...</td>\n",
       "      <td>...</td>\n",
       "      <td>...</td>\n",
       "      <td>...</td>\n",
       "      <td>...</td>\n",
       "    </tr>\n",
       "    <tr>\n",
       "      <th>7986</th>\n",
       "      <td>e</td>\n",
       "      <td>b</td>\n",
       "      <td>y</td>\n",
       "      <td>n</td>\n",
       "      <td>f</td>\n",
       "      <td>n</td>\n",
       "      <td>f</td>\n",
       "      <td>c</td>\n",
       "      <td>b</td>\n",
       "      <td>w</td>\n",
       "      <td>...</td>\n",
       "      <td>y</td>\n",
       "      <td>n</td>\n",
       "      <td>n</td>\n",
       "      <td>p</td>\n",
       "      <td>w</td>\n",
       "      <td>t</td>\n",
       "      <td>p</td>\n",
       "      <td>w</td>\n",
       "      <td>y</td>\n",
       "      <td>p</td>\n",
       "    </tr>\n",
       "    <tr>\n",
       "      <th>8001</th>\n",
       "      <td>e</td>\n",
       "      <td>x</td>\n",
       "      <td>y</td>\n",
       "      <td>n</td>\n",
       "      <td>f</td>\n",
       "      <td>n</td>\n",
       "      <td>f</td>\n",
       "      <td>c</td>\n",
       "      <td>b</td>\n",
       "      <td>w</td>\n",
       "      <td>...</td>\n",
       "      <td>y</td>\n",
       "      <td>n</td>\n",
       "      <td>n</td>\n",
       "      <td>p</td>\n",
       "      <td>w</td>\n",
       "      <td>t</td>\n",
       "      <td>p</td>\n",
       "      <td>w</td>\n",
       "      <td>y</td>\n",
       "      <td>p</td>\n",
       "    </tr>\n",
       "    <tr>\n",
       "      <th>8038</th>\n",
       "      <td>e</td>\n",
       "      <td>x</td>\n",
       "      <td>y</td>\n",
       "      <td>g</td>\n",
       "      <td>t</td>\n",
       "      <td>n</td>\n",
       "      <td>f</td>\n",
       "      <td>c</td>\n",
       "      <td>b</td>\n",
       "      <td>w</td>\n",
       "      <td>...</td>\n",
       "      <td>s</td>\n",
       "      <td>w</td>\n",
       "      <td>w</td>\n",
       "      <td>p</td>\n",
       "      <td>w</td>\n",
       "      <td>t</td>\n",
       "      <td>p</td>\n",
       "      <td>w</td>\n",
       "      <td>y</td>\n",
       "      <td>p</td>\n",
       "    </tr>\n",
       "    <tr>\n",
       "      <th>8095</th>\n",
       "      <td>p</td>\n",
       "      <td>x</td>\n",
       "      <td>y</td>\n",
       "      <td>c</td>\n",
       "      <td>f</td>\n",
       "      <td>m</td>\n",
       "      <td>f</td>\n",
       "      <td>c</td>\n",
       "      <td>b</td>\n",
       "      <td>y</td>\n",
       "      <td>...</td>\n",
       "      <td>y</td>\n",
       "      <td>c</td>\n",
       "      <td>c</td>\n",
       "      <td>p</td>\n",
       "      <td>w</td>\n",
       "      <td>n</td>\n",
       "      <td>n</td>\n",
       "      <td>w</td>\n",
       "      <td>c</td>\n",
       "      <td>d</td>\n",
       "    </tr>\n",
       "    <tr>\n",
       "      <th>8114</th>\n",
       "      <td>p</td>\n",
       "      <td>f</td>\n",
       "      <td>y</td>\n",
       "      <td>c</td>\n",
       "      <td>f</td>\n",
       "      <td>m</td>\n",
       "      <td>a</td>\n",
       "      <td>c</td>\n",
       "      <td>b</td>\n",
       "      <td>y</td>\n",
       "      <td>...</td>\n",
       "      <td>y</td>\n",
       "      <td>c</td>\n",
       "      <td>c</td>\n",
       "      <td>p</td>\n",
       "      <td>w</td>\n",
       "      <td>n</td>\n",
       "      <td>n</td>\n",
       "      <td>w</td>\n",
       "      <td>c</td>\n",
       "      <td>d</td>\n",
       "    </tr>\n",
       "  </tbody>\n",
       "</table>\n",
       "<p>5644 rows × 23 columns</p>\n",
       "</div>"
      ],
      "text/plain": [
       "     class cap-shape cap-surface cap-color bruises odor gill-attachment  \\\n",
       "0        p         x           s         n       t    p               f   \n",
       "1        e         x           s         y       t    a               f   \n",
       "2        e         b           s         w       t    l               f   \n",
       "3        p         x           y         w       t    p               f   \n",
       "4        e         x           s         g       f    n               f   \n",
       "...    ...       ...         ...       ...     ...  ...             ...   \n",
       "7986     e         b           y         n       f    n               f   \n",
       "8001     e         x           y         n       f    n               f   \n",
       "8038     e         x           y         g       t    n               f   \n",
       "8095     p         x           y         c       f    m               f   \n",
       "8114     p         f           y         c       f    m               a   \n",
       "\n",
       "     gill-spacing gill-size gill-color  ... stalk-surface-below-ring  \\\n",
       "0               c         n          k  ...                        s   \n",
       "1               c         b          k  ...                        s   \n",
       "2               c         b          n  ...                        s   \n",
       "3               c         n          n  ...                        s   \n",
       "4               w         b          k  ...                        s   \n",
       "...           ...       ...        ...  ...                      ...   \n",
       "7986            c         b          w  ...                        y   \n",
       "8001            c         b          w  ...                        y   \n",
       "8038            c         b          w  ...                        s   \n",
       "8095            c         b          y  ...                        y   \n",
       "8114            c         b          y  ...                        y   \n",
       "\n",
       "     stalk-color-above-ring stalk-color-below-ring veil-type veil-color  \\\n",
       "0                         w                      w         p          w   \n",
       "1                         w                      w         p          w   \n",
       "2                         w                      w         p          w   \n",
       "3                         w                      w         p          w   \n",
       "4                         w                      w         p          w   \n",
       "...                     ...                    ...       ...        ...   \n",
       "7986                      n                      n         p          w   \n",
       "8001                      n                      n         p          w   \n",
       "8038                      w                      w         p          w   \n",
       "8095                      c                      c         p          w   \n",
       "8114                      c                      c         p          w   \n",
       "\n",
       "     ring-number ring-type spore-print-color population habitat  \n",
       "0              o         p                 k          s       u  \n",
       "1              o         p                 n          n       g  \n",
       "2              o         p                 n          n       m  \n",
       "3              o         p                 k          s       u  \n",
       "4              o         e                 n          a       g  \n",
       "...          ...       ...               ...        ...     ...  \n",
       "7986           t         p                 w          y       p  \n",
       "8001           t         p                 w          y       p  \n",
       "8038           t         p                 w          y       p  \n",
       "8095           n         n                 w          c       d  \n",
       "8114           n         n                 w          c       d  \n",
       "\n",
       "[5644 rows x 23 columns]"
      ]
     },
     "execution_count": 4,
     "metadata": {},
     "output_type": "execute_result"
    }
   ],
   "source": [
    "data"
   ]
  },
  {
   "cell_type": "code",
   "execution_count": 5,
   "id": "b81094e1e5b80ea7",
   "metadata": {
    "ExecuteTime": {
     "end_time": "2024-12-16T08:26:43.567254Z",
     "start_time": "2024-12-16T08:26:43.536569Z"
    }
   },
   "outputs": [
    {
     "data": {
      "text/html": [
       "<div>\n",
       "<style scoped>\n",
       "    .dataframe tbody tr th:only-of-type {\n",
       "        vertical-align: middle;\n",
       "    }\n",
       "\n",
       "    .dataframe tbody tr th {\n",
       "        vertical-align: top;\n",
       "    }\n",
       "\n",
       "    .dataframe thead th {\n",
       "        text-align: right;\n",
       "    }\n",
       "</style>\n",
       "<table border=\"1\" class=\"dataframe\">\n",
       "  <thead>\n",
       "    <tr style=\"text-align: right;\">\n",
       "      <th></th>\n",
       "      <th>class</th>\n",
       "      <th>cap-shape</th>\n",
       "      <th>cap-surface</th>\n",
       "      <th>cap-color</th>\n",
       "      <th>bruises</th>\n",
       "      <th>odor</th>\n",
       "      <th>gill-attachment</th>\n",
       "      <th>gill-spacing</th>\n",
       "      <th>gill-size</th>\n",
       "      <th>gill-color</th>\n",
       "      <th>...</th>\n",
       "      <th>stalk-surface-below-ring</th>\n",
       "      <th>stalk-color-above-ring</th>\n",
       "      <th>stalk-color-below-ring</th>\n",
       "      <th>veil-type</th>\n",
       "      <th>veil-color</th>\n",
       "      <th>ring-number</th>\n",
       "      <th>ring-type</th>\n",
       "      <th>spore-print-color</th>\n",
       "      <th>population</th>\n",
       "      <th>habitat</th>\n",
       "    </tr>\n",
       "  </thead>\n",
       "  <tbody>\n",
       "    <tr>\n",
       "      <th>count</th>\n",
       "      <td>5644</td>\n",
       "      <td>5644</td>\n",
       "      <td>5644</td>\n",
       "      <td>5644</td>\n",
       "      <td>5644</td>\n",
       "      <td>5644</td>\n",
       "      <td>5644</td>\n",
       "      <td>5644</td>\n",
       "      <td>5644</td>\n",
       "      <td>5644</td>\n",
       "      <td>...</td>\n",
       "      <td>5644</td>\n",
       "      <td>5644</td>\n",
       "      <td>5644</td>\n",
       "      <td>5644</td>\n",
       "      <td>5644</td>\n",
       "      <td>5644</td>\n",
       "      <td>5644</td>\n",
       "      <td>5644</td>\n",
       "      <td>5644</td>\n",
       "      <td>5644</td>\n",
       "    </tr>\n",
       "    <tr>\n",
       "      <th>unique</th>\n",
       "      <td>2</td>\n",
       "      <td>6</td>\n",
       "      <td>4</td>\n",
       "      <td>8</td>\n",
       "      <td>2</td>\n",
       "      <td>7</td>\n",
       "      <td>2</td>\n",
       "      <td>2</td>\n",
       "      <td>2</td>\n",
       "      <td>9</td>\n",
       "      <td>...</td>\n",
       "      <td>4</td>\n",
       "      <td>7</td>\n",
       "      <td>7</td>\n",
       "      <td>1</td>\n",
       "      <td>2</td>\n",
       "      <td>3</td>\n",
       "      <td>4</td>\n",
       "      <td>6</td>\n",
       "      <td>6</td>\n",
       "      <td>6</td>\n",
       "    </tr>\n",
       "    <tr>\n",
       "      <th>top</th>\n",
       "      <td>e</td>\n",
       "      <td>x</td>\n",
       "      <td>y</td>\n",
       "      <td>g</td>\n",
       "      <td>t</td>\n",
       "      <td>n</td>\n",
       "      <td>f</td>\n",
       "      <td>c</td>\n",
       "      <td>b</td>\n",
       "      <td>p</td>\n",
       "      <td>...</td>\n",
       "      <td>s</td>\n",
       "      <td>w</td>\n",
       "      <td>w</td>\n",
       "      <td>p</td>\n",
       "      <td>w</td>\n",
       "      <td>o</td>\n",
       "      <td>p</td>\n",
       "      <td>n</td>\n",
       "      <td>v</td>\n",
       "      <td>d</td>\n",
       "    </tr>\n",
       "    <tr>\n",
       "      <th>freq</th>\n",
       "      <td>3488</td>\n",
       "      <td>2840</td>\n",
       "      <td>2220</td>\n",
       "      <td>1696</td>\n",
       "      <td>3184</td>\n",
       "      <td>2776</td>\n",
       "      <td>5626</td>\n",
       "      <td>4620</td>\n",
       "      <td>4940</td>\n",
       "      <td>1384</td>\n",
       "      <td>...</td>\n",
       "      <td>3544</td>\n",
       "      <td>3136</td>\n",
       "      <td>3088</td>\n",
       "      <td>5644</td>\n",
       "      <td>5636</td>\n",
       "      <td>5488</td>\n",
       "      <td>3488</td>\n",
       "      <td>1920</td>\n",
       "      <td>2160</td>\n",
       "      <td>2492</td>\n",
       "    </tr>\n",
       "  </tbody>\n",
       "</table>\n",
       "<p>4 rows × 23 columns</p>\n",
       "</div>"
      ],
      "text/plain": [
       "       class cap-shape cap-surface cap-color bruises  odor gill-attachment  \\\n",
       "count   5644      5644        5644      5644    5644  5644            5644   \n",
       "unique     2         6           4         8       2     7               2   \n",
       "top        e         x           y         g       t     n               f   \n",
       "freq    3488      2840        2220      1696    3184  2776            5626   \n",
       "\n",
       "       gill-spacing gill-size gill-color  ... stalk-surface-below-ring  \\\n",
       "count          5644      5644       5644  ...                     5644   \n",
       "unique            2         2          9  ...                        4   \n",
       "top               c         b          p  ...                        s   \n",
       "freq           4620      4940       1384  ...                     3544   \n",
       "\n",
       "       stalk-color-above-ring stalk-color-below-ring veil-type veil-color  \\\n",
       "count                    5644                   5644      5644       5644   \n",
       "unique                      7                      7         1          2   \n",
       "top                         w                      w         p          w   \n",
       "freq                     3136                   3088      5644       5636   \n",
       "\n",
       "       ring-number ring-type spore-print-color population habitat  \n",
       "count         5644      5644              5644       5644    5644  \n",
       "unique           3         4                 6          6       6  \n",
       "top              o         p                 n          v       d  \n",
       "freq          5488      3488              1920       2160    2492  \n",
       "\n",
       "[4 rows x 23 columns]"
      ]
     },
     "execution_count": 5,
     "metadata": {},
     "output_type": "execute_result"
    }
   ],
   "source": [
    "data.describe()"
   ]
  },
  {
   "cell_type": "code",
   "execution_count": 6,
   "id": "ecbc2d518ad2b4aa",
   "metadata": {
    "ExecuteTime": {
     "end_time": "2024-12-16T08:26:43.611778Z",
     "start_time": "2024-12-16T08:26:43.604295Z"
    }
   },
   "outputs": [
    {
     "data": {
      "text/plain": [
       "class                       0\n",
       "cap-shape                   0\n",
       "cap-surface                 0\n",
       "cap-color                   0\n",
       "bruises                     0\n",
       "odor                        0\n",
       "gill-attachment             0\n",
       "gill-spacing                0\n",
       "gill-size                   0\n",
       "gill-color                  0\n",
       "stalk-shape                 0\n",
       "stalk-root                  0\n",
       "stalk-surface-above-ring    0\n",
       "stalk-surface-below-ring    0\n",
       "stalk-color-above-ring      0\n",
       "stalk-color-below-ring      0\n",
       "veil-type                   0\n",
       "veil-color                  0\n",
       "ring-number                 0\n",
       "ring-type                   0\n",
       "spore-print-color           0\n",
       "population                  0\n",
       "habitat                     0\n",
       "dtype: int64"
      ]
     },
     "execution_count": 6,
     "metadata": {},
     "output_type": "execute_result"
    }
   ],
   "source": [
    "data.isnull().sum()"
   ]
  },
  {
   "cell_type": "markdown",
   "id": "8d6382c6a9640f87",
   "metadata": {},
   "source": [
    "## Визуализация распределения классов в данных"
   ]
  },
  {
   "cell_type": "code",
   "execution_count": 7,
   "id": "4ce1566092f4d0b3",
   "metadata": {
    "ExecuteTime": {
     "end_time": "2024-12-16T08:26:43.769943Z",
     "start_time": "2024-12-16T08:26:43.677744Z"
    }
   },
   "outputs": [
    {
     "data": {
      "image/png": "[encoded data removed]",
      "text/plain": [
       "<Figure size 640x480 with 1 Axes>"
      ]
     },
     "metadata": {},
     "output_type": "display_data"
    }
   ],
   "source": [
    "data['class'].value_counts().plot(kind='bar', title='Распределение классов')\n",
    "plt.xlabel('Класс')\n",
    "plt.ylabel('Количество')\n",
    "plt.show()"
   ]
  },
  {
   "cell_type": "markdown",
   "id": "4ac9794c1a9e4916",
   "metadata": {},
   "source": [
    "## Отбор случайных признаков для обучения (исключаем целевую переменную 'class')"
   ]
  },
  {
   "cell_type": "code",
   "execution_count": 8,
   "id": "624a120a10520d0a",
   "metadata": {
    "ExecuteTime": {
     "end_time": "2024-12-16T08:26:43.857706Z",
     "start_time": "2024-12-16T08:26:43.852820Z"
    }
   },
   "outputs": [],
   "source": [
    "columns = data.columns[1:]  # Исключаем целевую переменную\n",
    "selected_columns = np.random.choice(columns, ceil(sqrt(len(columns))), replace=False)\n",
    "\n",
    "# Подготовка данных для обучения\n",
    "X = data[selected_columns]\n",
    "y = data['class'].apply(lambda x: 1 if x == 'e' else 0)  # Преобразуем классы в 0 и 1"
   ]
  },
  {
   "cell_type": "markdown",
   "id": "890a584a7e5f67c3",
   "metadata": {},
   "source": [
    "## Разделение данных на обучающую и тестовую выборки"
   ]
  },
  {
   "cell_type": "code",
   "execution_count": 9,
   "id": "d38927b237486414",
   "metadata": {
    "ExecuteTime": {
     "end_time": "2024-12-16T08:26:43.968875Z",
     "start_time": "2024-12-16T08:26:43.965485Z"
    }
   },
   "outputs": [],
   "source": [
    "def _train_test_split(X, y, seed, test_percent=0.2):\n",
    "    random.seed(seed)              # seed для воспроизводимости\n",
    "    indices = list(range(len(X)))  # Генерируем индексы всех примеров\n",
    "    random.shuffle(indices)        # Перемешиваем индексы\n",
    "\n",
    "    # Определяем размер тестовой выборки\n",
    "    test_size = int(len(X) * test_percent)\n",
    "\n",
    "    # Разделяем данные на обучающие и тестовые\n",
    "    x_train = X.iloc[indices[test_size:]]\n",
    "    x_test = X.iloc[indices[:test_size]]\n",
    "    y_train = y.iloc[indices[test_size:]]\n",
    "    y_test = y.iloc[indices[:test_size]]\n",
    "\n",
    "    return x_train, x_test, y_train, y_test"
   ]
  },
  {
   "cell_type": "markdown",
   "id": "cfbf7be9db8b775d",
   "metadata": {},
   "source": [
    "## Разделяем данные на обучающие и тестовые выборки"
   ]
  },
  {
   "cell_type": "code",
   "execution_count": 10,
   "id": "3b0e83345ab64d20",
   "metadata": {
    "ExecuteTime": {
     "end_time": "2024-12-16T08:26:44.014128Z",
     "start_time": "2024-12-16T08:26:44.008628Z"
    }
   },
   "outputs": [],
   "source": [
    "seed = 373440     # ИСУ\n",
    "x_train, x_test, y_train, y_test = _train_test_split(X, y, seed)"
   ]
  },
  {
   "cell_type": "markdown",
   "id": "df72faf56218a6b4",
   "metadata": {},
   "source": [
    "## Определяем классы узлов дерева решений"
   ]
  },
  {
   "cell_type": "code",
   "execution_count": 11,
   "id": "12c37df0d55cc904",
   "metadata": {
    "ExecuteTime": {
     "end_time": "2024-12-16T08:26:44.082996Z",
     "start_time": "2024-12-16T08:26:44.073893Z"
    }
   },
   "outputs": [
    {
     "name": "stdout",
     "output_type": "stream",
     "text": [
      "0.0\n"
     ]
    }
   ],
   "source": [
    "class Node:\n",
    "    def __init__(self, feature, children):\n",
    "        self.feature = feature  # Признак для разделения\n",
    "        self.children = children  # Словарь: {значение признака: дочерний узел}\n",
    "\n",
    "    def pred(self, x):\n",
    "        feature_value = x[self.feature]  # Получаем значение признака для текущего примера\n",
    "        if feature_value not in self.children:\n",
    "            return None  # Если значения признака нет, возвращаем None\n",
    "        return self.children[feature_value].pred(x)  # Рекурсивно делаем предсказание для дочернего узла\n",
    "\n",
    "\n",
    "class Leaf(Node):\n",
    "    def __init__(self, leaf_value, proba):\n",
    "        super().__init__(\"\", {})      # Лист не имеет признака\n",
    "        self.leaf_value = leaf_value  # Значение класса в листе\n",
    "        self.proba = proba            # Вероятность принадлежности к классу\n",
    "\n",
    "    def pred(self, x):\n",
    "        return self.leaf_value  # В листе возвращаем значение класса\n",
    "\n",
    "    def predict_proba(self):\n",
    "        return self.proba  # Возвращаем вероятность принадлежности к классу\n",
    "\n",
    "\n",
    "class DecisionTree():\n",
    "    def __init__(self, columns):\n",
    "        self.columns = columns  # Колонки (признаки)\n",
    "        self.root = None        # Корень дерева\n",
    "\n",
    "    def fit(self, x, y):\n",
    "        self.root = self.build_node(x[self.columns], y, self.entropy(y))  # Строим дерево\n",
    "        return self.root\n",
    "\n",
    "    def pred(self, x):\n",
    "        return [self.root.pred(i) for i in x[self.columns].to_records()]  # Делаем предсказания для всех примеров\n",
    "\n",
    "    def predict_proba(self, x):\n",
    "        probabilities = []\n",
    "        for i in range(len(x)):\n",
    "            node = self.root\n",
    "            while isinstance(node, Node):\n",
    "                if node.feature == \"\":\n",
    "                    break  # Если это лист, выходим из цикла\n",
    "                feature_value = x.iloc[i][node.feature]  # Используем iloc для доступа к значению\n",
    "                if feature_value in node.children:\n",
    "                    node = node.children[feature_value]\n",
    "                else:\n",
    "                    break  # Если значение отсутствует, выходим из цикла\n",
    "            if isinstance(node, Leaf):\n",
    "                probabilities.append(node.predict_proba())\n",
    "            else:\n",
    "                probabilities.append(0)  # Если не удалось найти, возвращаем 0\n",
    "        return probabilities\n",
    "\n",
    "    @staticmethod\n",
    "    def entropy(y):\n",
    "        if len(y) == 0:\n",
    "            return 0  # Возвращаем 0, если y пустой\n",
    "        class_n = y.unique()  # Получаем уникальные классы\n",
    "        res = 0\n",
    "        for i in class_n:\n",
    "            freq_i = y.value_counts().get(i, 0)\n",
    "            if freq_i > 0:  # Проверяем, что freq_i больше 0\n",
    "                probability = freq_i / len(y)\n",
    "                res -= probability * log2(probability)\n",
    "        return res\n",
    "    \n",
    "    def build_node(self, x, y, parent_entropy):\n",
    "        # Если в выборке только один класс, возвращаем лист\n",
    "        if len(y.unique()) == 1:\n",
    "            return Leaf(y.unique()[0], 1)\n",
    "    \n",
    "        max_gain = 0\n",
    "        max_gain_column = ''\n",
    "    \n",
    "        # Ищем лучший признак для разделения\n",
    "        for column in self.columns:\n",
    "            features_names = pd.unique(x[column])\n",
    "            info = sum((x[column].value_counts()[feature] / len(x)) * self.entropy(y[x[column] == feature]) for feature in features_names)\n",
    "    \n",
    "            gain = parent_entropy - info\n",
    "            if gain > max_gain:\n",
    "                max_gain = gain\n",
    "                max_gain_column = column\n",
    "    \n",
    "        # Если не найден лучший признак, создаем лист с наиболее частым классом\n",
    "        if not max_gain_column:\n",
    "            mode = y.mode()[0]\n",
    "            return Leaf(mode, y.value_counts()[mode] / len(y))\n",
    "    \n",
    "        children = {}\n",
    "        features_names = x[max_gain_column].unique()\n",
    "        for feature in features_names:\n",
    "            # Рекурсивно строим дочерние узлы\n",
    "            children[feature] = self.build_node(x[x[max_gain_column] == feature], y[x[max_gain_column] == feature], self.entropy(y[x[max_gain_column] == feature]))\n",
    "    \n",
    "        return Node(max_gain_column, children)\n",
    "\n",
    "y = pd.Series(['A', 'A', 'A'])  # Все экземпляры принадлежат классу 'A'\n",
    "print(DecisionTree.entropy(y))  # Должно вывести 0"
   ]
  },
  {
   "cell_type": "markdown",
   "id": "28e2835b90c29704",
   "metadata": {},
   "source": [
    "## Обучаем модель дерева решений"
   ]
  },
  {
   "cell_type": "code",
   "execution_count": 12,
   "id": "4db3a8412293449a",
   "metadata": {
    "ExecuteTime": {
     "start_time": "2024-12-16T08:26:44.119869Z"
    },
    "jupyter": {
     "is_executing": true
    }
   },
   "outputs": [
    {
     "data": {
      "text/plain": [
       "<__main__.Node at 0x792f3378b410>"
      ]
     },
     "execution_count": 12,
     "metadata": {},
     "output_type": "execute_result"
    }
   ],
   "source": [
    "model = DecisionTree(selected_columns)\n",
    "model.fit(x_train, y_train)"
   ]
  },
  {
   "cell_type": "markdown",
   "id": "7c9927c560845bf1",
   "metadata": {},
   "source": [
    "## Визуализация дерева"
   ]
  },
  {
   "cell_type": "code",
   "execution_count": 13,
   "id": "60602d609abe1f7a",
   "metadata": {},
   "outputs": [
    {
     "data": {
      "image/png": "[encoded data removed]",
      "text/plain": [
       "<IPython.core.display.Image object>"
      ]
     },
     "metadata": {},
     "output_type": "display_data"
    }
   ],
   "source": [
    "def visualize_tree(node, graph=None, parent_name=None, edge_label=\"\"):\n",
    "    if graph is None:\n",
    "        graph = Digraph(format=\"png\")  # Указываем формат PNG\n",
    "        graph.attr(\"node\", shape=\"box\")\n",
    "\n",
    "    node_name = str(id(node))  # Уникальный идентификатор для узла\n",
    "\n",
    "    if isinstance(node, Leaf):\n",
    "        # Добавляем лист с классом и вероятностью\n",
    "        graph.node(node_name, label=f\"Leaf\\nClass: {node.leaf_value}\\nEntropy: {node.proba:.2f}\")\n",
    "    else:\n",
    "        # Добавляем узел с признаком\n",
    "        graph.node(node_name, label=f\"Feature: {node.feature}\")\n",
    "        for value, child in node.children.items():\n",
    "            # Рекурсивно добавляем дочерние узлы\n",
    "            visualize_tree(child, graph, node_name, edge_label=str(value))\n",
    "            graph.edge(node_name, str(id(child)), label=str(value))\n",
    "\n",
    "    return graph  # Возвращаем объект Digraph\n",
    "\n",
    "\n",
    "tree_graph = visualize_tree(model.root)  # Получаем объект графа\n",
    "\n",
    "png_data = tree_graph.pipe(format=\"png\")  # Генерируем PNG данные\n",
    "display(Image(png_data))  # Отображаем изображение"
   ]
  },
  {
   "cell_type": "markdown",
   "id": "de9a75d09cc1e110",
   "metadata": {},
   "source": [
    "## Делаем предсказание на тестовой выборке"
   ]
  },
  {
   "cell_type": "code",
   "execution_count": 14,
   "id": "9b1e50b4a17e2cd8",
   "metadata": {},
   "outputs": [],
   "source": [
    "y_pred = model.pred(x_test)"
   ]
  },
  {
   "cell_type": "markdown",
   "id": "5dbffde8d5067f61",
   "metadata": {},
   "source": [
    "## Оценка качества модели (матрица ошибок)"
   ]
  },
  {
   "cell_type": "code",
   "execution_count": 15,
   "id": "2e436302119cea4a",
   "metadata": {},
   "outputs": [],
   "source": [
    "def confusion_matrix(pred_y, true_y):\n",
    "    matrix = np.zeros((2, 2))\n",
    "    for pred, true in zip(pred_y, true_y):\n",
    "        pred = 1 if pred == 1 else 0\n",
    "        true = 1 if true == 1 else 0\n",
    "        matrix[pred][true] += 1\n",
    "    return matrix"
   ]
  },
  {
   "cell_type": "markdown",
   "id": "6ea7b0fd3c24db67",
   "metadata": {},
   "source": [
    "## Матрица ошибок"
   ]
  },
  {
   "cell_type": "code",
   "execution_count": 16,
   "id": "579f6d1160637989",
   "metadata": {},
   "outputs": [
    {
     "data": {
      "image/png": "[encoded data removed]",
      "text/plain": [
       "<Figure size 640x480 with 2 Axes>"
      ]
     },
     "metadata": {},
     "output_type": "display_data"
    }
   ],
   "source": [
    "import seaborn as sn\n",
    "cm_indeces = ['Positive', 'Negative']\n",
    "df_cm = pd.DataFrame(confusion_matrix(y_pred, y_test), index = cm_indeces, columns = cm_indeces)\n",
    "sn.set_context(\"paper\", rc={\"font.size\":12,\"axes.titlesize\":8,\"axes.labelsize\":5})\n",
    "sn.heatmap(df_cm, annot=True, fmt='.0f', cmap=\"Greens\")\n",
    "plt.show()"
   ]
  },
  {
   "cell_type": "markdown",
   "id": "ccaf074979be3ccb",
   "metadata": {},
   "source": [
    "## Функции для расчета метрик"
   ]
  },
  {
   "cell_type": "code",
   "execution_count": 17,
   "id": "c930390cd553eff5",
   "metadata": {},
   "outputs": [],
   "source": [
    "# Оценка качества модели\n",
    "def accuracy(y_true, y_pred):\n",
    "    return np.sum(y_true == y_pred) / len(y_true)\n",
    "\n",
    "def precision(cm):\n",
    "    return cm[1][1] / (cm[1][1] + cm[0][1]) if (cm[1][1] + cm[0][1]) != 0 else 0\n",
    "\n",
    "def recall(cm):\n",
    "    return cm[1][1] / (cm[1][1] + cm[1][0]) if (cm[1][1] + cm[1][0]) != 0 else 0\n",
    "\n",
    "def tpr(cm):\n",
    "    return recall(cm)\n",
    "\n",
    "def fpr(cm):\n",
    "    return cm[1][0] / (cm[1][0] + cm[0][0])"
   ]
  },
  {
   "cell_type": "markdown",
   "id": "4c261541f27c4b4c",
   "metadata": {},
   "source": [
    "## Метрики"
   ]
  },
  {
   "cell_type": "code",
   "execution_count": 18,
   "id": "bbd911b1734bef9f",
   "metadata": {},
   "outputs": [
    {
     "name": "stdout",
     "output_type": "stream",
     "text": [
      "Accuracy (верные предсказания): 0.8359929078014184\n",
      "Precision (действительно положительные среди верных предсказаний): 0.8324873096446701\n",
      "Recall (правильно идентифицированы моделью): 0.92524682651622\n"
     ]
    }
   ],
   "source": [
    "cm = confusion_matrix(y_test, y_pred)\n",
    "\n",
    "print(\"Accuracy (верные предсказания):\", accuracy(y_test, y_pred))\n",
    "print(\"Precision (действительно положительные среди верных предсказаний):\", precision(cm))\n",
    "print(\"Recall (правильно идентифицированы моделью):\", recall(cm))"
   ]
  },
  {
   "cell_type": "markdown",
   "id": "6c3c324551f6dc6a",
   "metadata": {},
   "source": [
    "## AUC-ROC и AUC-PR"
   ]
  },
  {
   "cell_type": "code",
   "execution_count": 19,
   "id": "a05b1ff63d3ef38f",
   "metadata": {},
   "outputs": [
    {
     "ename": "TypeError",
     "evalue": "list indices must be integers or slices, not tuple",
     "output_type": "error",
     "traceback": [
      "\u001b[0;31m---------------------------------------------------------------------------\u001b[0m",
      "\u001b[0;31mTypeError\u001b[0m                                 Traceback (most recent call last)",
      "Cell \u001b[0;32mIn[19], line 1\u001b[0m\n\u001b[0;32m----> 1\u001b[0m y_pred_proba \u001b[38;5;241m=\u001b[39m y_pred[:, \u001b[38;5;241m1\u001b[39m]\n\u001b[1;32m      3\u001b[0m \u001b[38;5;28;01mdef\u001b[39;00m \u001b[38;5;21mconfusion_matrix_proba\u001b[39m(y_pred_proba, true_y, threshold):\n\u001b[1;32m      4\u001b[0m     matrix \u001b[38;5;241m=\u001b[39m np\u001b[38;5;241m.\u001b[39mzeros((\u001b[38;5;241m2\u001b[39m, \u001b[38;5;241m2\u001b[39m))\n",
      "\u001b[0;31mTypeError\u001b[0m: list indices must be integers or slices, not tuple"
     ]
    }
   ],
   "source": [
    "def confusion_matrix_proba(y_pred_proba, true_y, threshold):\n",
    "    matrix = np.zeros((2, 2))\n",
    "    for pred_prob, true in zip(y_pred_proba, true_y):\n",
    "        pred = 1 if pred_prob >= threshold else 0\n",
    "        true = 1 if true == 1 else 0\n",
    "        matrix[pred][true] += 1\n",
    "\n",
    "    return matrix\n",
    "\n",
    "def probas(y_pred_proba):\n",
    "  return [prob if pred == 1 else 1 - prob for pred, prob in y_pred_proba]\n",
    "\n",
    "import seaborn as sns\n",
    "def auc_roc_plot(y_pred_proba):\n",
    "    sns.set(font_scale=1)\n",
    "    sns.set_color_codes(\"muted\")\n",
    "    plt.figure(figsize=(8, 8))\n",
    "    tpr_arr = []\n",
    "    fpr_arr = []\n",
    "    for th in np.arange(1, 0, -0.01):\n",
    "        conf = confusion_matrix_proba(probas(y_pred_proba), y_test, th)\n",
    "        tpr_arr.append(tpr(conf))\n",
    "        fpr_arr.append(fpr(conf))\n",
    "    display(pd.DataFrame({'tpr': tpr_arr, 'fpr': fpr_arr}))\n",
    "\n",
    "    plt.plot([0] + fpr_arr + [1], [0] + tpr_arr + [1], lw=2, label='ROC')\n",
    "    plt.plot(np.linspace(0, 1, 100), np.linspace(0, 1, 100), 'k--', label='Baseline')\n",
    "    plt.title('ROC curve')\n",
    "    plt.xlabel('False Positive Rate')\n",
    "    plt.ylabel('True Positive Rate')\n",
    "    plt.legend()\n",
    "    plt.show()\n",
    "\n",
    "auc_roc_plot(y_pred)\n",
    "\n",
    "def auc_pr_plot(y_pred_proba):\n",
    "  p = []\n",
    "  r = []\n",
    "\n",
    "  for th in np.arange(0, 1, 0.01):\n",
    "    conf = confusion_matrix_proba(probas(y_pred_proba), y_test, th)\n",
    "    p.append(precision(conf))\n",
    "    r.append(recall(conf))\n",
    "\n",
    "  plt.plot([1] + r + [0], [0] + p + [1], label='PR')\n",
    "  plt.xlabel('Recall')\n",
    "  plt.ylabel('Precision')\n",
    "  plt.legend()\n",
    "\n",
    "auc_pr_plot(y_pred)"
   ]
  }
 ],
 "metadata": {
  "kernelspec": {
   "display_name": "Python 3 (ipykernel)",
   "language": "python",
   "name": "python3"
  },
  "language_info": {
   "codemirror_mode": {
    "name": "ipython",
    "version": 3
   },
   "file_extension": ".py",
   "mimetype": "text/x-python",
   "name": "python",
   "nbconvert_exporter": "python",
   "pygments_lexer": "ipython3",
   "version": "3.12.4"
  }
 },
 "nbformat": 4,
 "nbformat_minor": 5
}
